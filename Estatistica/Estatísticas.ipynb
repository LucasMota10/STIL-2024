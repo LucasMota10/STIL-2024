{
  "nbformat": 4,
  "nbformat_minor": 0,
  "metadata": {
    "colab": {
      "provenance": []
    },
    "kernelspec": {
      "name": "python3",
      "display_name": "Python 3"
    },
    "language_info": {
      "name": "python"
    }
  },
  "cells": [
    {
      "cell_type": "markdown",
      "source": [
        "**Estatísticas do CORPUS - STIL 2024**\n",
        "\n",
        "[Anais do Simpósio Brasileiro de Tecnologia da Informação e da Linguagem Humana (STIL)](https://sol.sbc.org.br/index.php/stil)\n",
        "\n",
        "Dados a serem analisados nesse colab:\n",
        "\n",
        "*   Número de Sentenças\n",
        "*   Número Médio de sentenças\n",
        "*   Número de Tokens\n",
        "*   Número Médio de Tokens\n",
        "*   Top 10 Tokens\n",
        "*   Down 10 Tokens\n",
        "*   Número de Substantivos\n",
        "*   Número de Verbos\n",
        "*   Número de Preposições\n",
        "\n",
        "**Observação: O lemma e a analise de dependências seram anexados diretamente ao corpus**\n",
        "\n",
        "Inicialmente existiam 36 artigos da conferência principal,\n",
        "retirando os short papers restaram 24 artigos\n",
        "\n",
        "Para executar o código é necessário inserir na aba de arquivos o Corpus.json enviado no sigaa\n",
        "\n",
        "**Alunos**: Alfredo Sena, Aline Athaydes, Amanda Sammer, Caio Mello, Danilo Andrade, Felipe Sanches e Lucas Mota"
      ],
      "metadata": {
        "id": "eKcfmhmMNiGb"
      }
    },
    {
      "cell_type": "code",
      "execution_count": 121,
      "metadata": {
        "id": "_8kifN6kNeJz"
      },
      "outputs": [],
      "source": [
        "import pandas as pd"
      ]
    },
    {
      "cell_type": "markdown",
      "source": [
        "# Criação do DF"
      ],
      "metadata": {
        "id": "DSf9C7y4IHIY"
      }
    },
    {
      "cell_type": "code",
      "source": [
        "with open(\"corpus.json\",\"r\",encoding=\"utf-8\") as f:\n",
        "  corpus = pd.read_json(f)"
      ],
      "metadata": {
        "id": "ooA1cBvRPFKZ"
      },
      "execution_count": 122,
      "outputs": []
    },
    {
      "cell_type": "code",
      "source": [
        "conferencia_principal = corpus[\"conferencia_principal\"]"
      ],
      "metadata": {
        "id": "8jBh37BwPJfR"
      },
      "execution_count": 123,
      "outputs": []
    },
    {
      "cell_type": "code",
      "source": [
        "colunas = [\"nome_artigo\",\"numero_de_sentencas\",\"numero_de_tokens\",\"numero_de_substantivos\",\"numero_de_verbos\",\"numero_de_preposicoes\"]\n",
        "estatisticas = pd.DataFrame(columns=colunas)"
      ],
      "metadata": {
        "id": "FyqhHsiio0E9"
      },
      "execution_count": 124,
      "outputs": []
    },
    {
      "cell_type": "code",
      "source": [
        "for index,artigo in conferencia_principal.items():\n",
        "  estatisticas.at[index,\"nome_artigo\"] = artigo[\"titulo\"]"
      ],
      "metadata": {
        "id": "4KYhN3okCBIb"
      },
      "execution_count": 125,
      "outputs": []
    },
    {
      "cell_type": "code",
      "source": [
        "print(estatisticas)"
      ],
      "metadata": {
        "id": "9AYuLbvECT47"
      },
      "execution_count": null,
      "outputs": []
    },
    {
      "cell_type": "markdown",
      "source": [
        "# Número de Sentenças"
      ],
      "metadata": {
        "id": "_WFdKPHIovx8"
      }
    },
    {
      "cell_type": "code",
      "source": [
        "for index, artigo in conferencia_principal.items():\n",
        "  estatisticas.at[index,\"numero_de_sentencas\"] = len(artigo[\"artigo_sentenças\"])"
      ],
      "metadata": {
        "id": "d1_-jPTPoUOt"
      },
      "execution_count": 127,
      "outputs": []
    },
    {
      "cell_type": "code",
      "source": [
        "print(estatisticas)"
      ],
      "metadata": {
        "id": "OY5ObGvKuzK2"
      },
      "execution_count": null,
      "outputs": []
    },
    {
      "cell_type": "markdown",
      "source": [
        "# Número Médio de Sentenças"
      ],
      "metadata": {
        "id": "czyOFwS-1M73"
      }
    },
    {
      "cell_type": "code",
      "source": [
        "tot_sentencas = 0\n",
        "for index, row in estatisticas.iterrows():\n",
        "  tot_sentencas = tot_sentencas + row[\"numero_de_sentencas\"]\n",
        "\n",
        "n_med_sent = tot_sentencas/len(estatisticas)\n",
        "print(f\"Número Médio de Sentenças = {n_med_sent}\")"
      ],
      "metadata": {
        "id": "Aamqn-L71QDu"
      },
      "execution_count": null,
      "outputs": []
    },
    {
      "cell_type": "markdown",
      "source": [
        "# Número de Tokens"
      ],
      "metadata": {
        "id": "iVTyRtQ8u-VV"
      }
    },
    {
      "cell_type": "code",
      "source": [
        "for index, artigo in conferencia_principal.items():\n",
        "  estatisticas.at[index,\"numero_de_tokens\"] = len(artigo[\"artigo_tokenizado\"])"
      ],
      "metadata": {
        "id": "DABmrD9Pvfel"
      },
      "execution_count": 130,
      "outputs": []
    },
    {
      "cell_type": "code",
      "source": [
        "print(estatisticas)"
      ],
      "metadata": {
        "id": "-KRqoRN5vrWf"
      },
      "execution_count": null,
      "outputs": []
    },
    {
      "cell_type": "markdown",
      "source": [
        "# Número Médio de Tokens"
      ],
      "metadata": {
        "id": "k-VtcYwa2L9l"
      }
    },
    {
      "cell_type": "code",
      "source": [
        "tot_tokens = 0\n",
        "for index, row in estatisticas.iterrows():\n",
        "  tot_tokens = tot_tokens + row[\"numero_de_tokens\"]\n",
        "\n",
        "n_med_tokens = tot_tokens/len(estatisticas)\n",
        "print(f\"Número Médio de Tokens = {n_med_tokens}\")"
      ],
      "metadata": {
        "id": "FZJGBpov2OZm"
      },
      "execution_count": null,
      "outputs": []
    },
    {
      "cell_type": "markdown",
      "source": [
        "# Top 10 Tokens"
      ],
      "metadata": {
        "id": "fA_8aXic2joO"
      }
    },
    {
      "cell_type": "code",
      "source": [
        "dict_tokens = {}\n",
        "\n",
        "for index, artigo in conferencia_principal.items():\n",
        "  for token in artigo[\"artigo_tokenizado\"]:\n",
        "    if token in dict_tokens:\n",
        "      dict_tokens[token] = dict_tokens[token] + 1\n",
        "    else:\n",
        "      dict_tokens[token] = 1"
      ],
      "metadata": {
        "id": "fo4vLrkI2o3-"
      },
      "execution_count": 133,
      "outputs": []
    },
    {
      "cell_type": "code",
      "source": [
        "print(f\"Tokens Diferentes = {len(dict_tokens)}\")"
      ],
      "metadata": {
        "id": "7e-4AjWX-pSY"
      },
      "execution_count": null,
      "outputs": []
    },
    {
      "cell_type": "code",
      "source": [
        "res = sorted(dict_tokens, key=dict_tokens.get, reverse=True)"
      ],
      "metadata": {
        "id": "AP4d_N7Z_Enn"
      },
      "execution_count": 135,
      "outputs": []
    },
    {
      "cell_type": "code",
      "source": [
        "dict_top = {}"
      ],
      "metadata": {
        "id": "khzc3vorEpQq"
      },
      "execution_count": 148,
      "outputs": []
    },
    {
      "cell_type": "code",
      "source": [
        "print(\"TOP 10 TOKENS\")\n",
        "for i in range(0,10):\n",
        "  print(f\"{i+1}: {res[i]} = {dict_tokens[res[i]]}\")\n",
        "  dict_top[res[i]] = dict_tokens[res[i]]"
      ],
      "metadata": {
        "id": "0aoy--Bm_O3Z"
      },
      "execution_count": null,
      "outputs": []
    },
    {
      "cell_type": "markdown",
      "source": [
        "# Down 10 Tokens"
      ],
      "metadata": {
        "id": "9b2wmbrh2l7N"
      }
    },
    {
      "cell_type": "code",
      "source": [
        "down_tokens = sorted(dict_tokens, key=dict_tokens.get)"
      ],
      "metadata": {
        "id": "yljqHw8G2pft"
      },
      "execution_count": 137,
      "outputs": []
    },
    {
      "cell_type": "code",
      "source": [
        "dict_down = {}"
      ],
      "metadata": {
        "id": "mYMtRnxME2LH"
      },
      "execution_count": 150,
      "outputs": []
    },
    {
      "cell_type": "code",
      "source": [
        "print(\"DOWN 10 TOKENS\")\n",
        "for i in range(0,10):\n",
        "  print(f\"{i+1}: {down_tokens[i]} = {dict_tokens[down_tokens[i]]}\")\n",
        "  dict_down[down_tokens[i]] = dict_tokens[down_tokens[i]]"
      ],
      "metadata": {
        "id": "21QSMHDMAKK4"
      },
      "execution_count": null,
      "outputs": []
    },
    {
      "cell_type": "markdown",
      "source": [
        "**POS TAGGER**\n",
        "\n",
        "* ADJ\tAdjetivo\n",
        "* ADV\tAdvérbio\n",
        "* ADV-KS\tAdvérbio conjuntivo subordinado\n",
        "* ADV-KS-REL\tAdvérbio relativo subordinado\n",
        "* ART\tArtigo\n",
        "* CUR\tMoeda\n",
        "* IN\tInterjeição\n",
        "* KC\tConjunção coordenativa\n",
        "* KS\tConjunção subordinativa\n",
        "* N\tSubstantivo\n",
        "* NPROP\tSubstantivo próprio\n",
        "* NUM\tNúmero\n",
        "* PCP\tParticípio\n",
        "* PDEN\tPalavra denotativa\n",
        "* PREP\tPreposição\n",
        "* PROADJ\tPronome Adjetivo\n",
        "* PRO-KS\tPronome conjuntivo subordinado\n",
        "* PRO-KS-REL\tPronome relativo conectivo subordinado\n",
        "* PROPESS\tPronome pessoal\n",
        "* PROSUB\tPronome nominal\n",
        "* V\tVerbo\n",
        "* VAUX\tVerbo auxiliar"
      ],
      "metadata": {
        "id": "xqzSAUgIwqnF"
      }
    },
    {
      "cell_type": "markdown",
      "source": [
        "# Número de Substantivos"
      ],
      "metadata": {
        "id": "g5FoHPiEvvxG"
      }
    },
    {
      "cell_type": "code",
      "source": [
        "for index, artigo in conferencia_principal.items():\n",
        "  count_substantivo = 0\n",
        "  for sent in artigo[\"pos_tag_artigo\"]:\n",
        "    for item in sent:\n",
        "      if item[1] == \"N\" or item[1] == \"NPROP\":\n",
        "        count_substantivo = count_substantivo + 1\n",
        "  estatisticas.at[index,\"numero_de_substantivos\"] = count_substantivo"
      ],
      "metadata": {
        "id": "ScVueEvCv-YO"
      },
      "execution_count": 139,
      "outputs": []
    },
    {
      "cell_type": "code",
      "source": [
        "print(estatisticas)"
      ],
      "metadata": {
        "id": "WYXSl9TLx4Vd"
      },
      "execution_count": null,
      "outputs": []
    },
    {
      "cell_type": "markdown",
      "source": [
        "# Número de Verbos"
      ],
      "metadata": {
        "id": "33gWVJ_Zvz0F"
      }
    },
    {
      "cell_type": "code",
      "source": [
        "for index, artigo in conferencia_principal.items():\n",
        "  count_verbo = 0\n",
        "  for sent in artigo[\"pos_tag_artigo\"]:\n",
        "    for item in sent:\n",
        "      if item[1] == \"V\" or item[1] == \"VAUX\":\n",
        "        count_verbo = count_verbo + 1\n",
        "  estatisticas.at[index,\"numero_de_verbos\"] = count_verbo"
      ],
      "metadata": {
        "id": "ByXQkJg3zGCO"
      },
      "execution_count": 141,
      "outputs": []
    },
    {
      "cell_type": "code",
      "source": [
        "print(estatisticas)"
      ],
      "metadata": {
        "id": "Re9TQ9EEzOXd"
      },
      "execution_count": null,
      "outputs": []
    },
    {
      "cell_type": "markdown",
      "source": [
        "# Número de Preposições"
      ],
      "metadata": {
        "id": "shhzjBowv6WG"
      }
    },
    {
      "cell_type": "code",
      "source": [
        "for index, artigo in conferencia_principal.items():\n",
        "  count_prep = 0\n",
        "  for sent in artigo[\"pos_tag_artigo\"]:\n",
        "    for item in sent:\n",
        "      if item[1] == \"PREP\":\n",
        "        count_prep = count_prep + 1\n",
        "  estatisticas.at[index,\"numero_de_preposicoes\"] = count_prep"
      ],
      "metadata": {
        "id": "pgZ1PaFFzast"
      },
      "execution_count": 143,
      "outputs": []
    },
    {
      "cell_type": "code",
      "source": [
        "print(estatisticas)"
      ],
      "metadata": {
        "id": "pHy2ibdt0mz9"
      },
      "execution_count": null,
      "outputs": []
    },
    {
      "cell_type": "markdown",
      "source": [
        "# Exportando o DF de Estatística por artigo como CSV"
      ],
      "metadata": {
        "id": "n1WkBA7MDWDn"
      }
    },
    {
      "cell_type": "code",
      "source": [
        "from google.colab import files"
      ],
      "metadata": {
        "id": "MkkdTapkDiN_"
      },
      "execution_count": 145,
      "outputs": []
    },
    {
      "cell_type": "code",
      "source": [
        "estatisticas.to_csv('estatisticas_individuais_stil.csv', index=False)"
      ],
      "metadata": {
        "id": "55Wt9woMDang"
      },
      "execution_count": 146,
      "outputs": []
    },
    {
      "cell_type": "code",
      "source": [
        "files.download('estatisticas_individuais_stil.csv')"
      ],
      "metadata": {
        "colab": {
          "base_uri": "https://localhost:8080/",
          "height": 17
        },
        "id": "sKsWosItDij3",
        "outputId": "2b904fa2-c785-463f-d910-240593236146"
      },
      "execution_count": 147,
      "outputs": [
        {
          "output_type": "display_data",
          "data": {
            "text/plain": [
              "<IPython.core.display.Javascript object>"
            ],
            "application/javascript": [
              "\n",
              "    async function download(id, filename, size) {\n",
              "      if (!google.colab.kernel.accessAllowed) {\n",
              "        return;\n",
              "      }\n",
              "      const div = document.createElement('div');\n",
              "      const label = document.createElement('label');\n",
              "      label.textContent = `Downloading \"${filename}\": `;\n",
              "      div.appendChild(label);\n",
              "      const progress = document.createElement('progress');\n",
              "      progress.max = size;\n",
              "      div.appendChild(progress);\n",
              "      document.body.appendChild(div);\n",
              "\n",
              "      const buffers = [];\n",
              "      let downloaded = 0;\n",
              "\n",
              "      const channel = await google.colab.kernel.comms.open(id);\n",
              "      // Send a message to notify the kernel that we're ready.\n",
              "      channel.send({})\n",
              "\n",
              "      for await (const message of channel.messages) {\n",
              "        // Send a message to notify the kernel that we're ready.\n",
              "        channel.send({})\n",
              "        if (message.buffers) {\n",
              "          for (const buffer of message.buffers) {\n",
              "            buffers.push(buffer);\n",
              "            downloaded += buffer.byteLength;\n",
              "            progress.value = downloaded;\n",
              "          }\n",
              "        }\n",
              "      }\n",
              "      const blob = new Blob(buffers, {type: 'application/binary'});\n",
              "      const a = document.createElement('a');\n",
              "      a.href = window.URL.createObjectURL(blob);\n",
              "      a.download = filename;\n",
              "      div.appendChild(a);\n",
              "      a.click();\n",
              "      div.remove();\n",
              "    }\n",
              "  "
            ]
          },
          "metadata": {}
        },
        {
          "output_type": "display_data",
          "data": {
            "text/plain": [
              "<IPython.core.display.Javascript object>"
            ],
            "application/javascript": [
              "download(\"download_7d2d8c18-f992-4619-a873-11ada9b992fb\", \"estatisticas_gerais_stil.csv\", 2788)"
            ]
          },
          "metadata": {}
        }
      ]
    },
    {
      "cell_type": "markdown",
      "source": [
        "# Exportando informações Gerais como JSON"
      ],
      "metadata": {
        "id": "o1ginVqiD34P"
      }
    },
    {
      "cell_type": "code",
      "source": [
        "import json"
      ],
      "metadata": {
        "id": "7LHmqnO_FIGn"
      },
      "execution_count": 152,
      "outputs": []
    },
    {
      "cell_type": "code",
      "source": [
        "dados = {\n",
        "    \"numero_medio_sentencas\": n_med_sent,\n",
        "    \"numero_medio_tokens\": n_med_tokens,\n",
        "    \"numero_de_tokens_diferentes\": len(dict_tokens),\n",
        "    \"top_10_tokens\": dict_top,\n",
        "    \"down_10_tokens\": dict_down\n",
        "}"
      ],
      "metadata": {
        "id": "xLPoN11IEMyJ"
      },
      "execution_count": 157,
      "outputs": []
    },
    {
      "cell_type": "code",
      "source": [
        "with open('estatisticas_gerais_stil.json', 'w') as json_file:\n",
        "    json.dump(dados, json_file,indent=4)"
      ],
      "metadata": {
        "id": "_rVC7kAIFBK5"
      },
      "execution_count": null,
      "outputs": []
    },
    {
      "cell_type": "code",
      "source": [
        "files.download('estatisticas_gerais_stil.json')"
      ],
      "metadata": {
        "colab": {
          "base_uri": "https://localhost:8080/",
          "height": 17
        },
        "id": "_bRaQwRqFgAp",
        "outputId": "8b841d84-7c7a-451a-bae9-4d56721df24b"
      },
      "execution_count": 161,
      "outputs": [
        {
          "output_type": "display_data",
          "data": {
            "text/plain": [
              "<IPython.core.display.Javascript object>"
            ],
            "application/javascript": [
              "\n",
              "    async function download(id, filename, size) {\n",
              "      if (!google.colab.kernel.accessAllowed) {\n",
              "        return;\n",
              "      }\n",
              "      const div = document.createElement('div');\n",
              "      const label = document.createElement('label');\n",
              "      label.textContent = `Downloading \"${filename}\": `;\n",
              "      div.appendChild(label);\n",
              "      const progress = document.createElement('progress');\n",
              "      progress.max = size;\n",
              "      div.appendChild(progress);\n",
              "      document.body.appendChild(div);\n",
              "\n",
              "      const buffers = [];\n",
              "      let downloaded = 0;\n",
              "\n",
              "      const channel = await google.colab.kernel.comms.open(id);\n",
              "      // Send a message to notify the kernel that we're ready.\n",
              "      channel.send({})\n",
              "\n",
              "      for await (const message of channel.messages) {\n",
              "        // Send a message to notify the kernel that we're ready.\n",
              "        channel.send({})\n",
              "        if (message.buffers) {\n",
              "          for (const buffer of message.buffers) {\n",
              "            buffers.push(buffer);\n",
              "            downloaded += buffer.byteLength;\n",
              "            progress.value = downloaded;\n",
              "          }\n",
              "        }\n",
              "      }\n",
              "      const blob = new Blob(buffers, {type: 'application/binary'});\n",
              "      const a = document.createElement('a');\n",
              "      a.href = window.URL.createObjectURL(blob);\n",
              "      a.download = filename;\n",
              "      div.appendChild(a);\n",
              "      a.click();\n",
              "      div.remove();\n",
              "    }\n",
              "  "
            ]
          },
          "metadata": {}
        },
        {
          "output_type": "display_data",
          "data": {
            "text/plain": [
              "<IPython.core.display.Javascript object>"
            ],
            "application/javascript": [
              "download(\"download_9fd48429-48ec-4ec8-8342-f3eb2ce361ac\", \"estatisticas_gerais_stil.json\", 590)"
            ]
          },
          "metadata": {}
        }
      ]
    }
  ]
}