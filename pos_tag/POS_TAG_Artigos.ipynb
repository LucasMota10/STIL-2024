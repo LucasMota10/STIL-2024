{
  "nbformat": 4,
  "nbformat_minor": 0,
  "metadata": {
    "colab": {
      "provenance": []
    },
    "kernelspec": {
      "name": "python3",
      "display_name": "Python 3"
    },
    "language_info": {
      "name": "python"
    }
  },
  "cells": [
    {
      "cell_type": "code",
      "source": [
        "from transformers import AutoTokenizer, AutoModelForTokenClassification\n",
        "from transformers import pipeline\n",
        "import json\n",
        "from google.colab import files\n",
        "import nltk\n",
        "from nltk.tokenize import sent_tokenize\n",
        "import torch"
      ],
      "metadata": {
        "id": "GZfqe30xWiFb"
      },
      "execution_count": 67,
      "outputs": []
    },
    {
      "cell_type": "code",
      "source": [
        "nltk.download('punkt_tab')"
      ],
      "metadata": {
        "id": "caO_drnDHgTC"
      },
      "execution_count": null,
      "outputs": []
    },
    {
      "cell_type": "code",
      "execution_count": 69,
      "metadata": {
        "id": "0jNEGh7cWXLM"
      },
      "outputs": [],
      "source": [
        "tokenizer = AutoTokenizer.from_pretrained(\"lisaterumi/postagger-portuguese\")\n",
        "model = AutoModelForTokenClassification.from_pretrained(\"lisaterumi/postagger-portuguese\")"
      ]
    },
    {
      "cell_type": "code",
      "source": [
        "with open(\"corpus.json\", \"r\", encoding=\"utf-8\") as f:\n",
        "    data = json.load(f)"
      ],
      "metadata": {
        "id": "7byginOAXTZ7"
      },
      "execution_count": 70,
      "outputs": []
    },
    {
      "cell_type": "code",
      "source": [
        "dados = {\n",
        "    \"conferencia_principal\": [\n",
        "    ]\n",
        "    }\n",
        "\n",
        "conferencia_principal = data[\"conferencia_principal\"]"
      ],
      "metadata": {
        "id": "axxjXBMSXU2B"
      },
      "execution_count": 71,
      "outputs": []
    },
    {
      "cell_type": "code",
      "source": [
        "pos_tag = pipeline(\"token-classification\", model=model, tokenizer=tokenizer, aggregation_strategy=\"simple\")"
      ],
      "metadata": {
        "id": "p03GPOVZWvIK"
      },
      "execution_count": null,
      "outputs": []
    },
    {
      "cell_type": "code",
      "source": [
        "def processar_frase(frase, tokenizer, pos_tag, max_length=510):\n",
        "    tokens = tokenizer.tokenize(frase)\n",
        "    resultado = []\n",
        "\n",
        "    if len(tokens) <= max_length:\n",
        "        saida = pos_tag(frase)\n",
        "        resultado.append([[token[\"word\"], token[\"entity_group\"]] for token in saida])\n",
        "    else:\n",
        "        for i in range(0, len(tokens), max_length):\n",
        "            tokens_chunk = tokens[i:i+max_length]\n",
        "            chunk_text = tokenizer.convert_tokens_to_string(tokens_chunk)\n",
        "            saida = pos_tag(chunk_text)\n",
        "            resultado.append([[token[\"word\"], token[\"entity_group\"]] for token in saida])\n",
        "\n",
        "    return resultado\n"
      ],
      "metadata": {
        "id": "iqWeLPErKtNK"
      },
      "execution_count": 73,
      "outputs": []
    },
    {
      "cell_type": "code",
      "source": [
        "for index, artigo in enumerate(conferencia_principal):\n",
        "    print(index)\n",
        "    frases = sent_tokenize(artigo[\"artigo_completo\"], language='portuguese')\n",
        "    artigo[\"artigo_sentenças\"] = frases\n",
        "\n",
        "    pos = []\n",
        "    for frase in frases:\n",
        "      saida_pos = processar_frase(frase, tokenizer, pos_tag)\n",
        "      pos.extend(saida_pos)\n",
        "\n",
        "    artigo[\"pos_tag_artigo\"] = pos\n",
        "    dados[\"conferencia_principal\"].append(artigo)"
      ],
      "metadata": {
        "id": "zkSMkZMwXaa5"
      },
      "execution_count": null,
      "outputs": []
    },
    {
      "cell_type": "code",
      "source": [
        "with open(\"corpus.json\", \"w\", encoding=\"utf-8\", ) as f:\n",
        "    json.dump(dados, f, ensure_ascii=False, indent=4, default=str)\n",
        "\n",
        "files.download(\"corpus.json\")"
      ],
      "metadata": {
        "id": "b6boanS0Xdyz",
        "colab": {
          "base_uri": "https://localhost:8080/",
          "height": 17
        },
        "outputId": "95797811-fa59-4529-f1fb-49dc65dce7a9"
      },
      "execution_count": 75,
      "outputs": [
        {
          "output_type": "display_data",
          "data": {
            "text/plain": [
              "<IPython.core.display.Javascript object>"
            ],
            "application/javascript": [
              "\n",
              "    async function download(id, filename, size) {\n",
              "      if (!google.colab.kernel.accessAllowed) {\n",
              "        return;\n",
              "      }\n",
              "      const div = document.createElement('div');\n",
              "      const label = document.createElement('label');\n",
              "      label.textContent = `Downloading \"${filename}\": `;\n",
              "      div.appendChild(label);\n",
              "      const progress = document.createElement('progress');\n",
              "      progress.max = size;\n",
              "      div.appendChild(progress);\n",
              "      document.body.appendChild(div);\n",
              "\n",
              "      const buffers = [];\n",
              "      let downloaded = 0;\n",
              "\n",
              "      const channel = await google.colab.kernel.comms.open(id);\n",
              "      // Send a message to notify the kernel that we're ready.\n",
              "      channel.send({})\n",
              "\n",
              "      for await (const message of channel.messages) {\n",
              "        // Send a message to notify the kernel that we're ready.\n",
              "        channel.send({})\n",
              "        if (message.buffers) {\n",
              "          for (const buffer of message.buffers) {\n",
              "            buffers.push(buffer);\n",
              "            downloaded += buffer.byteLength;\n",
              "            progress.value = downloaded;\n",
              "          }\n",
              "        }\n",
              "      }\n",
              "      const blob = new Blob(buffers, {type: 'application/binary'});\n",
              "      const a = document.createElement('a');\n",
              "      a.href = window.URL.createObjectURL(blob);\n",
              "      a.download = filename;\n",
              "      div.appendChild(a);\n",
              "      a.click();\n",
              "      div.remove();\n",
              "    }\n",
              "  "
            ]
          },
          "metadata": {}
        },
        {
          "output_type": "display_data",
          "data": {
            "text/plain": [
              "<IPython.core.display.Javascript object>"
            ],
            "application/javascript": [
              "download(\"download_66dea050-5c30-4b1a-9a0b-02cfe5800016\", \"corpus.json\", 15184685)"
            ]
          },
          "metadata": {}
        }
      ]
    }
  ]
}