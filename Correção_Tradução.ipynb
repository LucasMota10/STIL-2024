{
  "cells": [
    {
      "cell_type": "code",
      "execution_count": null,
      "metadata": {
        "colab": {
          "base_uri": "https://localhost:8080/"
        },
        "id": "Ca0dbU-0ieCR",
        "outputId": "c36fc33b-4aaf-41f7-eafd-0b3add175c7c"
      },
      "outputs": [],
      "source": [
        "pip install openai"
      ]
    },
    {
      "cell_type": "code",
      "execution_count": 3,
      "metadata": {
        "id": "wpC8MZtMibev"
      },
      "outputs": [],
      "source": [
        "from openai import OpenAI"
      ]
    },
    {
      "cell_type": "code",
      "execution_count": null,
      "metadata": {
        "id": "ZkvEA7VsitOi"
      },
      "outputs": [],
      "source": [
        "chave_gpt = \"sua chave\"\n",
        "ENDPOINT_GPT = \"https://api.openai.com/v1\" # Gpt\n",
        "model_gpt = \"gpt-4o-mini\""
      ]
    },
    {
      "cell_type": "code",
      "execution_count": 5,
      "metadata": {
        "id": "VydEcaWwjurB"
      },
      "outputs": [],
      "source": [
        "import json\n",
        "from google.colab import files"
      ]
    },
    {
      "cell_type": "code",
      "execution_count": 6,
      "metadata": {
        "id": "qOc21CHVjlgJ"
      },
      "outputs": [],
      "source": [
        "with open(\"corpus_artigos.json\", \"r\", encoding=\"utf-8\") as file:\n",
        "    articles_json = json.load(file)"
      ]
    },
    {
      "cell_type": "code",
      "execution_count": 7,
      "metadata": {
        "id": "gX5YWRwXj2DI"
      },
      "outputs": [],
      "source": [
        "conf_principal = articles_json[\"Conferência Principal\"]"
      ]
    },
    {
      "cell_type": "code",
      "execution_count": 8,
      "metadata": {
        "id": "A3aIApDOfi4T"
      },
      "outputs": [],
      "source": [
        "dados = {\n",
        "    \"conferencia_principal\": [\n",
        "    ]\n",
        "    }"
      ]
    },
    {
      "cell_type": "code",
      "execution_count": null,
      "metadata": {
        "colab": {
          "base_uri": "https://localhost:8080/"
        },
        "id": "cXFmfEXLi2tw",
        "outputId": "2411e61a-a63b-4bdd-e196-36d70c72c264"
      },
      "outputs": [],
      "source": [
        "client = OpenAI(api_key=key, base_url=ENDPOINT_GPT) # Token and EndPoint\n",
        "\n",
        "question_answering = []\n",
        "\n",
        "for index, article in enumerate(conf_principal): # Iteration based on the titles of the CDC articles contained in the df\n",
        "\n",
        "  if article[\"idioma\"] == \"Português\":\n",
        "    instruction = \"\"\"\n",
        "\n",
        "    Sua tarefa é corrigir os erros de acentuação do artigo abaixo, não faça comentarios, apenas retorne o artigo corrigido:\n",
        "\n",
        "    \"\"\" + article[\"artigo_completo\"] + \"\"\"\n",
        "\n",
        "    \"\"\"\n",
        "\n",
        "  elif article[\"idioma\"] == \"Inglês\":\n",
        "    instruction = \"\"\"\n",
        "\n",
        "    Sua tarefa é traduzir o artigo abaixo para português, não faça comentários, apenas retorne o artigo traduzido:\n",
        "\n",
        "    \"\"\" + article[\"artigo_completo\"] + \"\"\"\n",
        "\n",
        "    \"\"\"\n",
        "\n",
        "  response = client.chat.completions.create(\n",
        "  model= model_gpt, # Model name (Only have to trade)\n",
        "\n",
        "  messages=[\n",
        "\n",
        "    {\"role\": \"user\", \"content\": instruction}\n",
        "    ],\n",
        "\n",
        "  # Parameters:\n",
        " # temperature = 0.8, # Increase the model creativity\n",
        "  #frequency_penalty = 0.5, # Reduce the use of repetitive words\n",
        "#  presence_penalty = 0.8 # increase the approach to other topics\n",
        "  )\n",
        "  chat_response = response.choices[0].message.content # Answer\n",
        "\n",
        "  print(index)\n",
        "  print(chat_response)\n",
        "  article[\"artigo_completo\"] = chat_response\n",
        "  dados[\"conferencia_principal\"].append(article)"
      ]
    },
    {
      "cell_type": "code",
      "execution_count": 11,
      "metadata": {
        "colab": {
          "base_uri": "https://localhost:8080/",
          "height": 17
        },
        "id": "Cqivwrdte6rt",
        "outputId": "6d1064c5-b9ab-410b-ecf5-2e3fc7fc0788"
      },
      "outputs": [
        {
          "data": {
            "application/javascript": "\n    async function download(id, filename, size) {\n      if (!google.colab.kernel.accessAllowed) {\n        return;\n      }\n      const div = document.createElement('div');\n      const label = document.createElement('label');\n      label.textContent = `Downloading \"${filename}\": `;\n      div.appendChild(label);\n      const progress = document.createElement('progress');\n      progress.max = size;\n      div.appendChild(progress);\n      document.body.appendChild(div);\n\n      const buffers = [];\n      let downloaded = 0;\n\n      const channel = await google.colab.kernel.comms.open(id);\n      // Send a message to notify the kernel that we're ready.\n      channel.send({})\n\n      for await (const message of channel.messages) {\n        // Send a message to notify the kernel that we're ready.\n        channel.send({})\n        if (message.buffers) {\n          for (const buffer of message.buffers) {\n            buffers.push(buffer);\n            downloaded += buffer.byteLength;\n            progress.value = downloaded;\n          }\n        }\n      }\n      const blob = new Blob(buffers, {type: 'application/binary'});\n      const a = document.createElement('a');\n      a.href = window.URL.createObjectURL(blob);\n      a.download = filename;\n      div.appendChild(a);\n      a.click();\n      div.remove();\n    }\n  ",
            "text/plain": [
              "<IPython.core.display.Javascript object>"
            ]
          },
          "metadata": {},
          "output_type": "display_data"
        },
        {
          "data": {
            "application/javascript": "download(\"download_0e004000-8ba6-42d2-b9f9-86d3d4778952\", \"corpus_artigos.json\", 939626)",
            "text/plain": [
              "<IPython.core.display.Javascript object>"
            ]
          },
          "metadata": {},
          "output_type": "display_data"
        }
      ],
      "source": [
        "with open(\"corpus_artigos.json\", \"w\", encoding=\"utf-8\") as f:\n",
        "    json.dump(dados, f, ensure_ascii=False, indent=4)\n",
        "\n",
        "files.download(\"corpus_artigos.json\")"
      ]
    }
  ],
  "metadata": {
    "colab": {
      "provenance": []
    },
    "kernelspec": {
      "display_name": "Python 3",
      "name": "python3"
    },
    "language_info": {
      "name": "python"
    }
  },
  "nbformat": 4,
  "nbformat_minor": 0
}
