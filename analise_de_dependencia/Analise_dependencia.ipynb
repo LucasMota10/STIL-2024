{
  "nbformat": 4,
  "nbformat_minor": 0,
  "metadata": {
    "colab": {
      "provenance": []
    },
    "kernelspec": {
      "name": "python3",
      "display_name": "Python 3"
    },
    "language_info": {
      "name": "python"
    }
  },
  "cells": [
    {
      "cell_type": "markdown",
      "source": [
        "# Análise de Dependencias utilizando o Spacy\n",
        "\n",
        "Dependências mais comuns:\n",
        "\n",
        "* nsubj -\tsujeito\n",
        "* obj\t- objeto direto\n",
        "* iobj - objeto indireto\n",
        "* obl -\tobjeto oblíquo (com preposição)\n",
        "* root - verbo principal da frase\n",
        "* aux - verbo auxiliar\n",
        "* advmod - advérbio\n",
        "* amod - adjetivo ligado a substantivo\n",
        "* case - preposição\n",
        "* det - determinante (artigo: o, a, um...)\n",
        "* ccomp - oração completiva\n",
        "* xcomp - oração sem sujeito explícito"
      ],
      "metadata": {
        "id": "8AgNzAoypioS"
      }
    },
    {
      "cell_type": "code",
      "source": [
        "!python -m spacy download pt_core_news_md"
      ],
      "metadata": {
        "id": "CYSvR2M1pdCb"
      },
      "execution_count": null,
      "outputs": []
    },
    {
      "cell_type": "code",
      "execution_count": 8,
      "metadata": {
        "id": "U_OFSCyfpQ5V"
      },
      "outputs": [],
      "source": [
        "import pandas as pd\n",
        "import json\n",
        "import spacy\n",
        "from google.colab import files"
      ]
    },
    {
      "cell_type": "code",
      "source": [
        "nlp = spacy.load(\"pt_core_news_md\")"
      ],
      "metadata": {
        "id": "qwh0PE6vpqah"
      },
      "execution_count": 9,
      "outputs": []
    },
    {
      "cell_type": "code",
      "source": [
        "with open(\"corpus.json\",\"r\", encoding=\"utf-8\") as f:\n",
        "    data = json.load(f)\n",
        "\n",
        "conf_principal = data[\"conferencia_principal\"]"
      ],
      "metadata": {
        "id": "f_SFnBe9pspp"
      },
      "execution_count": 10,
      "outputs": []
    },
    {
      "cell_type": "code",
      "source": [
        "dados = {\n",
        "    \"conferencia_principal\": [\n",
        "    ]\n",
        "    }\n",
        ""
      ],
      "metadata": {
        "id": "rPLGVS8gpvbB"
      },
      "execution_count": 11,
      "outputs": []
    },
    {
      "cell_type": "code",
      "source": [
        "for index, artigo in enumerate(conf_principal):\n",
        "\n",
        "  artigo_dependencia = []\n",
        "\n",
        "  for sents in artigo[\"artigo_sentenças\"]:\n",
        "    doc = nlp(sents)\n",
        "\n",
        "    for token in doc:\n",
        "      dict_aux = {\"Palavra Analisada\": token.text,\n",
        "                  \"Relação Sintática\": token.dep_,\n",
        "                  \"Palavra que Depende\": token.head.text}\n",
        "\n",
        "      artigo_dependencia.append(dict_aux)\n",
        "\n",
        "  artigo[\"analise_dependencia\"] = artigo_dependencia\n",
        "  dados[\"conferencia_principal\"].append(artigo)\n",
        ""
      ],
      "metadata": {
        "id": "su_r8ftxpzYp"
      },
      "execution_count": 12,
      "outputs": []
    },
    {
      "cell_type": "code",
      "source": [
        "with open(\"corpus.json\", \"w\", encoding=\"utf-8\") as f:\n",
        "    json.dump(dados, f, ensure_ascii=False, indent=4)\n",
        "\n",
        "files.download(\"corpus.json\")"
      ],
      "metadata": {
        "colab": {
          "base_uri": "https://localhost:8080/",
          "height": 17
        },
        "id": "DWZUHEe-p0l6",
        "outputId": "5d2b2892-f3df-4dd3-8868-0da78319ad51"
      },
      "execution_count": 13,
      "outputs": [
        {
          "output_type": "display_data",
          "data": {
            "text/plain": [
              "<IPython.core.display.Javascript object>"
            ],
            "application/javascript": [
              "\n",
              "    async function download(id, filename, size) {\n",
              "      if (!google.colab.kernel.accessAllowed) {\n",
              "        return;\n",
              "      }\n",
              "      const div = document.createElement('div');\n",
              "      const label = document.createElement('label');\n",
              "      label.textContent = `Downloading \"${filename}\": `;\n",
              "      div.appendChild(label);\n",
              "      const progress = document.createElement('progress');\n",
              "      progress.max = size;\n",
              "      div.appendChild(progress);\n",
              "      document.body.appendChild(div);\n",
              "\n",
              "      const buffers = [];\n",
              "      let downloaded = 0;\n",
              "\n",
              "      const channel = await google.colab.kernel.comms.open(id);\n",
              "      // Send a message to notify the kernel that we're ready.\n",
              "      channel.send({})\n",
              "\n",
              "      for await (const message of channel.messages) {\n",
              "        // Send a message to notify the kernel that we're ready.\n",
              "        channel.send({})\n",
              "        if (message.buffers) {\n",
              "          for (const buffer of message.buffers) {\n",
              "            buffers.push(buffer);\n",
              "            downloaded += buffer.byteLength;\n",
              "            progress.value = downloaded;\n",
              "          }\n",
              "        }\n",
              "      }\n",
              "      const blob = new Blob(buffers, {type: 'application/binary'});\n",
              "      const a = document.createElement('a');\n",
              "      a.href = window.URL.createObjectURL(blob);\n",
              "      a.download = filename;\n",
              "      div.appendChild(a);\n",
              "      a.click();\n",
              "      div.remove();\n",
              "    }\n",
              "  "
            ]
          },
          "metadata": {}
        },
        {
          "output_type": "display_data",
          "data": {
            "text/plain": [
              "<IPython.core.display.Javascript object>"
            ],
            "application/javascript": [
              "download(\"download_92e346dc-1018-41ec-a8c5-00ae29304e52\", \"corpus.json\", 37373654)"
            ]
          },
          "metadata": {}
        }
      ]
    }
  ]
}